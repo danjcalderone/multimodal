{
 "cells": [
  {
   "cell_type": "markdown",
   "metadata": {},
   "source": [
    "# PRELIMINARIES "
   ]
  },
  {
   "cell_type": "markdown",
   "metadata": {},
   "source": [
    "### STEP 1: run each of these in a separate terminal\n",
    "#### TERMINAL 1:\n",
    "export SERVER='carta-cav'\n",
    "\n",
    "ssh -L 8081:localhost:8081 \"$SERVER\"\n",
    "\n",
    "#### TERMINAL 2:\n",
    "export SERVER='carta-cav'\n",
    "\n",
    "ssh -L 26025:localhost:26025 \"$SERVER\"\n",
    "\n",
    "### STEP 2: update the following two lines at the top of\n",
    "#### multimodal_class.py\n",
    "\n",
    "to be the appropriate paths on your system\n",
    "\n",
    "path_to_VRPsolver = '/Users/dan/Documents/transit_webapp/'\n",
    "\n",
    "path_to_multimodalsim = '/Users/dan/Documents/multimodal/'\n"
   ]
  },
  {
   "cell_type": "markdown",
   "metadata": {},
   "source": [
    "### IMPORTS"
   ]
  },
  {
   "cell_type": "code",
   "execution_count": null,
   "metadata": {
    "scrolled": true
   },
   "outputs": [],
   "source": [
    "%load_ext autoreload\n",
    "%autoreload 2\n",
    "from multimodal_class import *"
   ]
  },
  {
   "cell_type": "code",
   "execution_count": null,
   "metadata": {},
   "outputs": [],
   "source": []
  },
  {
   "cell_type": "markdown",
   "metadata": {},
   "source": [
    "### INITIAL PARAMETERS"
   ]
  },
  {
   "cell_type": "code",
   "execution_count": null,
   "metadata": {},
   "outputs": [],
   "source": [
    "params = {'csv_file_path': 'INPUTS/PRE_micro_2.csv',  # LOADS POPULATION DATA\n",
    "          'modes':['drive','walk','gtfs','ondemand'],\n",
    "          'time_window': [21600,36000], # in seconds. 6 AM to 10 AM\n",
    "          'bnds':[np.array([-85.3394,  34.9458]), # bottom left\n",
    "                  np.array([-85.2494,  35.0658])], # top right\n",
    "          'groups_regions_geojson': 'INPUTS/regions2.geojson', # saved geojson file from geojson.io LOADS ONDEMAND REGIONS\n",
    "          'background_congestion_file': 'INPUTS/background_traffic1.obj',  # OPTIONAL - LOADS BACKGROUND TRAFFIC\n",
    "          ############ PRECOMPUTED GTFS DATA ########### \n",
    "          'gtfs_feed_file': 'INPUTS/carta_gtfs.zip',  # included in INPUTS folder\n",
    "          'gtfs_precomputed_file': 'INPUTS/gtfs_trips.obj', # generated from gtfs  ONLY RUN ONCE\n",
    "          'max_num_people':30,\n",
    "         }"
   ]
  },
  {
   "cell_type": "markdown",
   "metadata": {},
   "source": [
    "# SETUP SIMULATION"
   ]
  },
  {
   "cell_type": "code",
   "execution_count": null,
   "metadata": {
    "scrolled": true
   },
   "outputs": [],
   "source": [
    "# OPTION-1: FULL ONE-SHOT SETUP \n",
    "# BLAH = WORLD(params,full_setup = True)\n",
    "\n",
    "# OPTION-2: STEP-BY-STEP SETUP\n",
    "WORLD1 = WORLD(params)\n",
    "WORLD1.initGRAPHSnFEEDS();\n",
    "WORLD1.initNETWORKS();\n",
    "WORLD1.initCONVERTER();\n",
    "WORLD1.initSTATS(version='agrima_code'); ###### version = 'dan_code'\n",
    "WORLD1.initONDEMAND(); \n",
    "WORLD1.initPEOPLE();\n",
    "WORLD1.initBACKGROUND();\n"
   ]
  },
  {
   "cell_type": "code",
   "execution_count": null,
   "metadata": {},
   "outputs": [],
   "source": []
  },
  {
   "cell_type": "markdown",
   "metadata": {},
   "source": [
    "### FIT CONGESTION DEMAND MODELS"
   ]
  },
  {
   "cell_type": "code",
   "execution_count": null,
   "metadata": {},
   "outputs": [],
   "source": [
    "from multimodal_class import *\n",
    "WORLD1.fitModels(counts ={'num_counts':2,'num_per_count':1}); \n"
   ]
  },
  {
   "cell_type": "markdown",
   "metadata": {},
   "source": [
    "### PRELIMINARY PLOTS (OPTIONAL)"
   ]
  },
  {
   "cell_type": "code",
   "execution_count": null,
   "metadata": {},
   "outputs": [],
   "source": [
    "from multimodal_class import *\n",
    "WORLD1.plotPRELIMINARIES(include_demand_curves=True);"
   ]
  },
  {
   "cell_type": "markdown",
   "metadata": {},
   "source": [
    "# RUN SIMULATION"
   ]
  },
  {
   "cell_type": "code",
   "execution_count": null,
   "metadata": {
    "scrolled": true
   },
   "outputs": [],
   "source": [
    "from multimodal_class import *\n",
    "WORLD1.SIM(num_iters = 2, restart = True, compute_uncongested = True, force_takeall=False)"
   ]
  },
  {
   "cell_type": "markdown",
   "metadata": {},
   "source": [
    "### GENERATE OUTPUTS"
   ]
  },
  {
   "cell_type": "code",
   "execution_count": null,
   "metadata": {},
   "outputs": [],
   "source": [
    "from multimodal_class import *\n",
    "WORLD1.generateOutputs(randomize=['money','switches']);"
   ]
  },
  {
   "cell_type": "markdown",
   "metadata": {},
   "source": [
    "### PRINT OUTPUTS"
   ]
  },
  {
   "cell_type": "code",
   "execution_count": null,
   "metadata": {},
   "outputs": [],
   "source": [
    "mode = 'gtfs'\n",
    "dfs_to_show = [mode]\n",
    "WORLD1.printOutputs(show_active=True,dfs_to_show = dfs_to_show,row_count = 10); "
   ]
  },
  {
   "cell_type": "markdown",
   "metadata": {},
   "source": [
    "### SAVE OUTPUTS"
   ]
  },
  {
   "cell_type": "code",
   "execution_count": null,
   "metadata": {},
   "outputs": [],
   "source": [
    "WORLD1.saveOutputs('OUTPUTS/run7')"
   ]
  },
  {
   "cell_type": "markdown",
   "metadata": {},
   "source": [
    "### GENERATE DASHBOARD"
   ]
  },
  {
   "cell_type": "code",
   "execution_count": null,
   "metadata": {},
   "outputs": [],
   "source": [
    "from multimodal_class import *\n",
    "WORLD1.generateLayers();\n",
    "WORLD1.plotLAYERS(folder = 'DASH/dash1',overwrite = True,verbose=False)"
   ]
  },
  {
   "cell_type": "markdown",
   "metadata": {},
   "source": [
    "### SHOW DASHBOARD"
   ]
  },
  {
   "cell_type": "code",
   "execution_count": null,
   "metadata": {},
   "outputs": [],
   "source": [
    "from multimodal_class import *\n",
    "\n",
    "WORLD1.DASH = DASHBOARD(WORLD1.dash_folder);\n",
    "WORLD1.DASH.makeGrid();\n",
    "WORLD1.DASH.addOutputs(WORLD1.OUTPUTS,use_active=True)\n",
    "WORLD1.DASH.addImages(WORLD1.layers)\n",
    "WORLD1.DASH.show()\n"
   ]
  },
  {
   "cell_type": "raw",
   "metadata": {},
   "source": [
    "### CREATE HTML DASHBOARD"
   ]
  },
  {
   "cell_type": "code",
   "execution_count": null,
   "metadata": {},
   "outputs": [],
   "source": [
    "import plotly.io as pio\n",
    "pio.write_html(WORLD1.DASH.fig, file='dash1.html', auto_open=True)"
   ]
  },
  {
   "cell_type": "markdown",
   "metadata": {},
   "source": [
    "####  END OF CURRENT ####  END OF CURRENT ####  END OF CURRENT ####  END OF CURRENT ####  END OF CURRENT "
   ]
  },
  {
   "cell_type": "code",
   "execution_count": null,
   "metadata": {},
   "outputs": [],
   "source": [
    "# group = 'group0'\n",
    "# RUNS = WORLD1.ONDEMAND.groups[group].runs\n",
    "# for run in RUNS:\n",
    "#     RUN = RUNS[run];\n",
    "#     print(vars(RUN))\n",
    "print(WORLD1.OUTPUTS['ondemand'])"
   ]
  },
  {
   "cell_type": "code",
   "execution_count": null,
   "metadata": {},
   "outputs": [],
   "source": []
  }
 ],
 "metadata": {
  "kernelspec": {
   "display_name": "Python 3 (ipykernel)",
   "language": "python",
   "name": "python3"
  },
  "language_info": {
   "codemirror_mode": {
    "name": "ipython",
    "version": 3
   },
   "file_extension": ".py",
   "mimetype": "text/x-python",
   "name": "python",
   "nbconvert_exporter": "python",
   "pygments_lexer": "ipython3",
   "version": "3.11.5"
  },
  "vscode": {
   "interpreter": {
    "hash": "c4d0005f5e14f7c00ac58c488a6489dbdddabe86817daaefe3a462e64eae13df"
   }
  }
 },
 "nbformat": 4,
 "nbformat_minor": 4
}
